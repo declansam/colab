{
 "cells": [
  {
   "cell_type": "code",
   "execution_count": 1,
   "id": "162e7b53",
   "metadata": {},
   "outputs": [],
   "source": [
    "import sys\n",
    "import os\n",
    "\n",
    "# Activate Conda Env \"Ultra\" As the Kernel\n",
    "# Navigate up from notebooks/ to main/, then add explainers/ to the path\n",
    "current_dir = os.getcwd()  # Returns main/notebooks/\n",
    "parent_dir = os.path.dirname(current_dir)  # Returns main/\n",
    "sys.path.append(parent_dir)  # Now Python can see main/\n",
    "\n",
    "import torch\n",
    "import pandas as pd\n",
    "from notebooks.vizualize import vizualize_explanation_fb, load_vocab, prepare_expl\n",
    "import networkx as nx\n",
    "from pyvis.network import Network"
   ]
  },
  {
   "cell_type": "code",
   "execution_count": 2,
   "id": "d0deee75",
   "metadata": {},
   "outputs": [],
   "source": [
    "# Load dataset \n",
    "dataset = torch.load(\n",
    "    \"/storage/ryoji/Graph-Transformer/NBFNet-PyG/misc/fb15k237_dataset.pt\"\n",
    ")\n",
    "id2entity, id2relation = torch.load(\n",
    "    \"/storage/ryoji/Graph-Transformer/NBFNet-PyG/misc/fb15k237_id2name.pt\"\n",
    ")\n",
    "vocab_file = \"/storage/ryoji/Graph-Transformer/NBFNet-PyG/data/fb15k237_entity.txt\"\n",
    "vocab = load_vocab(vocab_file)"
   ]
  },
  {
   "cell_type": "code",
   "execution_count": 3,
   "id": "16eabf86-4765-40d9-8872-254e3dbb6122",
   "metadata": {},
   "outputs": [],
   "source": [
    "# Configurable \n",
    "split = \"test\"  # the split\n",
    "ratio = 25  # the top r ratio of edges\n",
    "root_dir = \"/storage/ryoji/Graph-Transformer/NBFNet-PyG/explanation/EdgeRandomWalk/NBFNet/FB15k-237/ERW\"\n",
    "# root_dir = \"/storage/ryoji/Graph-Transformer/NBFNet-PyG/explanation/EdgeRandomWalk/NBFNet/FB15k-237/ERW_inv\""
   ]
  },
  {
   "cell_type": "code",
   "execution_count": 4,
   "id": "b32391e8",
   "metadata": {},
   "outputs": [],
   "source": [
    "if split == \"valid\":\n",
    "    data_index = 1\n",
    "if split == \"test\":\n",
    "    data_index = 2\n",
    "\n",
    "# The path of dataset\n",
    "output_file = f\"{root_dir}/{split}_output_factual_eval_hard_edge_mask_top_k_{ratio}.pt\"\n",
    "explanation_file = f\"{root_dir}/{split}_explanations_factual_eval_hard_edge_mask_top_k_{ratio}.pt\"\n",
    "finetune_output_file = f\"{root_dir}/run_NBFNet_hard_edge_mask_top_k_{ratio}/{split}_output.pt\"\n",
    "\n",
    "# Load the dataset\n",
    "explanations = torch.load(explanation_file, map_location=\"cpu\")\n",
    "outputs = torch.load(output_file, map_location=\"cpu\")\n",
    "finetune_outputs = torch.load(finetune_output_file, map_location=\"cpu\")\n",
    "output_df = pd.DataFrame(outputs)\n",
    "finetune_df = pd.DataFrame(finetune_outputs)\n",
    "data = dataset[data_index]\n",
    "\n",
    "# Drop any duplicate records, this happens from DDP, DistributedSampler drop_last = False. \n",
    "output_df = output_df.drop_duplicates(subset=['Heads', 'Tails', 'Rel', 'Mode'])\n",
    "finetune_df = finetune_df.drop_duplicates(subset=['Heads', 'Tails', 'Rel', 'Mode'])\n",
    "\n",
    "# Merge the output and finetune dataframe into one\n",
    "output_df = pd.merge(output_df, finetune_df, on=['Heads', 'Tails', 'Rel', 'Mode'], suffixes=('_GNN_eval', '_finetune'), how='left')\n",
    "\n",
    "# Preprocess the explanations\n",
    "expl = prepare_expl(explanations)"
   ]
  },
  {
   "cell_type": "code",
   "execution_count": 5,
   "id": "96e8d1f2-602c-4f9e-b6cd-21f228fb5f2e",
   "metadata": {},
   "outputs": [],
   "source": [
    "# Control the index (row number of output_df of the instance you want to inspect here)\n",
    "index = 9"
   ]
  },
  {
   "cell_type": "code",
   "execution_count": 6,
   "id": "cf0320c8-0d50-43f0-9a78-569d9b97c0b7",
   "metadata": {},
   "outputs": [
    {
     "name": "stdout",
     "output_type": "stream",
     "text": [
      "*** Query: ('ming wen (Q254205)', '/film/actor/film./film/performance/film'). Answer: final fantasy:the spirits within (Q752541) ***\n",
      "- GNN_eval Rank given the explanation 14471\n",
      "- Finetuned Rank given the explanation 14540\n",
      "Is the tail included in the 6-hop neighbor of head in the original graph? True\n",
      "Is the head included in the Explanation? False\n",
      "Is the tail included in the Explanation? False\n",
      "Is the tail connected to the head? False\n"
     ]
    }
   ],
   "source": [
    "G = vizualize_explanation_fb(index, data,\n",
    "    id2entity,\n",
    "    id2relation,\n",
    "    vocab,\n",
    "    dataset.num_relations,\n",
    "    output_df,\n",
    "    expl,)"
   ]
  },
  {
   "cell_type": "code",
   "execution_count": 7,
   "id": "a545a75a-38e7-4bf3-9631-b1096a7f0f03",
   "metadata": {},
   "outputs": [
    {
     "name": "stdout",
     "output_type": "stream",
     "text": [
      "graph.html\n"
     ]
    },
    {
     "data": {
      "text/html": [
       "\n",
       "        <iframe\n",
       "            width=\"100%\"\n",
       "            height=\"750px\"\n",
       "            src=\"graph.html\"\n",
       "            frameborder=\"0\"\n",
       "            allowfullscreen\n",
       "            \n",
       "        ></iframe>\n",
       "        "
      ],
      "text/plain": [
       "<IPython.lib.display.IFrame at 0x7f410b27ad10>"
      ]
     },
     "execution_count": 7,
     "metadata": {},
     "output_type": "execute_result"
    }
   ],
   "source": [
    "# *** Explanation Graph Visualization ***\n",
    "# RED NODE: The Query Head (if inside the explanation)\n",
    "# GREEN NODE: The Answer Tail (if inside the explanation)\n",
    "# Purple Edges: Edges that are in any path that connected Red to Green\n",
    "net = Network(notebook = True, cdn_resources = \"remote\",\n",
    "                    bgcolor = \"#222222\",\n",
    "                    font_color = \"white\",\n",
    "                    height = \"750px\",\n",
    "                    width = \"100%\",\n",
    "                    select_menu = True,\n",
    "                    filter_menu = True,\n",
    "                    directed=True\n",
    "    )\n",
    "net.from_nx(G)\n",
    "net.inherit_edge_colors(False)\n",
    "net.set_edge_smooth('dynamic')\n",
    "net.show('graph.html')"
   ]
  },
  {
   "cell_type": "code",
   "execution_count": null,
   "id": "5ca28b96-f203-401c-a194-9547d4a62f57",
   "metadata": {},
   "outputs": [],
   "source": []
  },
  {
   "cell_type": "code",
   "execution_count": null,
   "id": "03e652c6-13b3-4913-98e3-dfe8c451c4e3",
   "metadata": {},
   "outputs": [],
   "source": []
  }
 ],
 "metadata": {
  "kernelspec": {
   "display_name": "Ultra",
   "language": "python",
   "name": "ultra"
  },
  "language_info": {
   "codemirror_mode": {
    "name": "ipython",
    "version": 3
   },
   "file_extension": ".py",
   "mimetype": "text/x-python",
   "name": "python",
   "nbconvert_exporter": "python",
   "pygments_lexer": "ipython3",
   "version": "3.10.15"
  }
 },
 "nbformat": 4,
 "nbformat_minor": 5
}
