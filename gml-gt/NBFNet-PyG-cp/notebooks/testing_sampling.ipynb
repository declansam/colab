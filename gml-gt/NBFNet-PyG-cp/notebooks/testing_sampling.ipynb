{
 "cells": [
  {
   "cell_type": "markdown",
   "id": "558a192e-43a9-41d6-af99-0ab9099cab12",
   "metadata": {},
   "source": [
    "# Example of Evaluating a Graph"
   ]
  },
  {
   "cell_type": "code",
   "execution_count": 1,
   "id": "ef093fec-eb5f-4c93-83e6-04b46972f3f0",
   "metadata": {},
   "outputs": [
    {
     "name": "stdout",
     "output_type": "stream",
     "text": [
      "[['/m/08966', '/travel/travel_destination/climate./travel/travel_destination_monthly_climate/month', '/m/05lf_'], ['/m/01hww_', '/music/performance_role/regular_performances./music/group_membership/group', '/m/01q99h'], ['/m/09v3jyg', '/film/film/release_date_s./film/film_regional_release_date/film_release_region', '/m/0f8l9c'], ['/m/02jx1', '/location/location/contains', '/m/013t85'], ['/m/02jx1', '/location/location/contains', '/m/0m0bj']]\n"
     ]
    },
    {
     "name": "stderr",
     "output_type": "stream",
     "text": [
      "/storage/miniconda3/envs/nbfnet/lib/python3.9/site-packages/tqdm/auto.py:21: TqdmWarning: IProgress not found. Please update jupyter and ipywidgets. See https://ipywidgets.readthedocs.io/en/stable/user_install.html\n",
      "  from .autonotebook import tqdm as notebook_tqdm\n"
     ]
    }
   ],
   "source": [
    "# As an example, let's randomly create a graph consisting of the first 5 lines of FB test split.\n",
    "with open('/storage/ryoji/Graph-Transformer/NBFNet-PyG/datasets/knowledge_graphs/FB15k-237/raw/test.txt', \"r\") as fin:\n",
    "    num_sample = 0\n",
    "    triples = []\n",
    "    for line in fin:\n",
    "        h_token, r_token, t_token = line.strip().split(\"\\t\")\n",
    "        triples.append([h_token, r_token, t_token])\n",
    "        num_sample += 1\n",
    "        if num_sample == 5:\n",
    "            break\n",
    "\n",
    "print(triples)\n",
    "\n",
    "# And let's say our target triple to predict is the following.\n",
    "target_edge = ['/m/08966', '/travel/travel_destination/climate./travel/travel_destination_monthly_climate/month', '/m/0f8l9c']\n",
    "\n",
    "# save the triples and target edge, remember here not to add any inverse as the code will automatically add them later.\n",
    "import torch\n",
    "file_name = '/storage/ryoji/Graph-Transformer/NBFNet-PyG/sample_1.pt'\n",
    "torch.save((triples, target_edge), file_name)"
   ]
  },
  {
   "cell_type": "markdown",
   "id": "f02c46dc-d837-4599-9466-f793bc4a65ea",
   "metadata": {},
   "source": [
    "## Warning\n",
    "### Do not include inverse triples, the code will automatically add them.\n",
    "### Do not kill the job while (Load rspmm extension. This may take a while...) is displayed in the following code, this can cause a deadlock later on."
   ]
  },
  {
   "cell_type": "code",
   "execution_count": 2,
   "id": "1c7ff4ad-0168-4840-ae13-7ab654882ce1",
   "metadata": {},
   "outputs": [
    {
     "name": "stderr",
     "output_type": "stream",
     "text": [
      "13:17:09   Random seed: 1024\n",
      "13:17:09   Config file: config/transductive/fb15k237-topk.yaml\n",
      "13:17:09   {'checkpoint': '/storage/ryoji/Graph-Transformer/NBFNet-PyG/checkpoint/fb15k237_transductive_best.pth',\n",
      " 'dataset': {'class': 'FB15k-237',\n",
      "             'root': '/storage/ryoji/Graph-Transformer/NBFNet-PyG/datasets/knowledge_graphs/'},\n",
      " 'model': {'aggregate_func': 'pna',\n",
      "           'class': 'NBFNet',\n",
      "           'dependent': True,\n",
      "           'hidden_dims': [32, 32, 32, 32, 32, 32],\n",
      "           'input_dim': 32,\n",
      "           'layer_norm': True,\n",
      "           'message_func': 'distmult',\n",
      "           'num_beam': 5,\n",
      "           'path_topk': 5,\n",
      "           'remove_one_hop': True,\n",
      "           'short_cut': True},\n",
      " 'optimizer': {'class': 'Adam', 'lr': 0.005},\n",
      " 'output_dir': '/storage/ryoji/Graph-Transformer/NBFNet-PyG/experiments/',\n",
      " 'task': {'adversarial_temperature': 0.5,\n",
      "          'metric': ['mr',\n",
      "                     'mrr',\n",
      "                     'hits@1',\n",
      "                     'hits@3',\n",
      "                     'hits@10',\n",
      "                     'hits@50',\n",
      "                     'hits@100'],\n",
      "          'num_negative': 32,\n",
      "          'strict_negative': True},\n",
      " 'topk': 1000,\n",
      " 'train': {'batch_size': 64, 'gpus': [0], 'log_interval': 100, 'num_epoch': 0}}\n",
      "13:17:09   FB15k-237 dataset\n",
      "13:17:09   #train: 272115, #valid: 17535, #test: 20466\n",
      "13:17:11   >>>>>>>>>>>>>>>>>>>>>>>>>>>>>>\n",
      "13:17:11   Evaluate on sampled data\n",
      "  0%|                                                                                                                                                     | 0/1 [00:00<?, ?it/s]"
     ]
    },
    {
     "name": "stdout",
     "output_type": "stream",
     "text": [
      "Load rspmm extension. This may take a while...\n"
     ]
    },
    {
     "name": "stderr",
     "output_type": "stream",
     "text": [
      "/storage/miniconda3/envs/nbfnet/lib/python3.9/site-packages/torch_geometric/data/storage.py:244: UserWarning: Unable to accurately infer 'num_nodes' from the attribute set '{'edge_index', 'edge_type'}'. Please explicitly set 'num_nodes' as an attribute of 'data' to suppress this warning\n",
      "  warnings.warn(\n",
      "100%|█████████████████████████████████████████████████████████████████████████████████████████████████████████████████████████████████████████████| 1/1 [00:39<00:00, 39.59s/it]\n",
      "13:17:51   mr: 3\n",
      "13:17:51   mrr: 0.375\n",
      "13:17:51   hits@1: 0\n",
      "13:17:51   hits@3: 0.5\n",
      "13:17:51   hits@10: 1\n",
      "13:17:51   hits@50: 1\n",
      "13:17:51   hits@100: 1\n"
     ]
    },
    {
     "name": "stdout",
     "output_type": "stream",
     "text": [
      "Query ('/m/08966', '/travel/travel_destination/climate./travel/travel_destination_monthly_climate/month'): \n",
      "1 /m/05lf_ Filtered\n",
      "2 /m/0m0bj\n",
      "3 /m/0f8l9c Answer\n",
      "4 /m/09v3jyg\n",
      "5 /m/08966\n",
      "6 /m/01hww_\n",
      "7 /m/013t85\n",
      "8 /m/01q99h\n",
      "9 /m/02jx1\n",
      "* The filtered tail-batch rank is 2 *\n",
      "Query ('/m/0f8l9c', '/travel/travel_destination/climate./travel/travel_destination_monthly_climate/month_inv'): \n",
      "1 /m/09v3jyg\n",
      "2 /m/0m0bj\n",
      "3 /m/01hww_\n",
      "4 /m/08966 Answer\n",
      "5 /m/01q99h\n",
      "6 /m/0f8l9c\n",
      "7 /m/013t85\n",
      "8 /m/05lf_\n",
      "9 /m/02jx1\n",
      "* The filtered head-batch rank is 4 *\n",
      "Check /storage/ryoji/Graph-Transformer/NBFNet-PyG/experiments/NBFNet/FB15k-237/2024-09-13-13-17-09/sample_top1000.pt for in-depth topk\n",
      "Check /storage/ryoji/Graph-Transformer/NBFNet-PyG/experiments/NBFNet/FB15k-237/2024-09-13-13-17-09/test_output.pt for in-depth output\n"
     ]
    },
    {
     "data": {
      "text/plain": [
       "0"
      ]
     },
     "execution_count": 2,
     "metadata": {},
     "output_type": "execute_result"
    }
   ],
   "source": [
    "# now, we simply run the NBFNet using the file we just created. Make sure you are using the right config that matches the dataset\n",
    "import os\n",
    "os.system(f\"python script/samplingGraph.py -c config/transductive/fb15k237-topk.yaml --gpus [0] --file_name {file_name}\")"
   ]
  }
 ],
 "metadata": {
  "kernelspec": {
   "display_name": "nbfnet",
   "language": "python",
   "name": "myenv"
  },
  "language_info": {
   "codemirror_mode": {
    "name": "ipython",
    "version": 3
   },
   "file_extension": ".py",
   "mimetype": "text/x-python",
   "name": "python",
   "nbconvert_exporter": "python",
   "pygments_lexer": "ipython3",
   "version": "3.9.19"
  }
 },
 "nbformat": 4,
 "nbformat_minor": 5
}
